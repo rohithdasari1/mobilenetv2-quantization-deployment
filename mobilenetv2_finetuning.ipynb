{
  "nbformat": 4,
  "nbformat_minor": 0,
  "metadata": {
    "colab": {
      "provenance": [],
      "gpuType": "T4"
    },
    "kernelspec": {
      "name": "python3",
      "display_name": "Python 3"
    },
    "language_info": {
      "name": "python"
    },
    "accelerator": "GPU"
  },
  "cells": [
    {
      "cell_type": "code",
      "execution_count": null,
      "metadata": {
        "colab": {
          "base_uri": "https://localhost:8080/"
        },
        "id": "GQ9XTuIyHiC9",
        "outputId": "94f969b9-df2b-4db2-9179-1df6e8deb4c6"
      },
      "outputs": [
        {
          "output_type": "stream",
          "name": "stdout",
          "text": [
            "Downloading data from https://www.cs.toronto.edu/~kriz/cifar-10-python.tar.gz\n",
            "\u001b[1m170498071/170498071\u001b[0m \u001b[32m━━━━━━━━━━━━━━━━━━━━\u001b[0m\u001b[37m\u001b[0m \u001b[1m6s\u001b[0m 0us/step\n",
            "Downloading data from https://storage.googleapis.com/tensorflow/keras-applications/mobilenet_v2/mobilenet_v2_weights_tf_dim_ordering_tf_kernels_1.0_224_no_top.h5\n",
            "\u001b[1m9406464/9406464\u001b[0m \u001b[32m━━━━━━━━━━━━━━━━━━━━\u001b[0m\u001b[37m\u001b[0m \u001b[1m1s\u001b[0m 0us/step\n",
            "Epoch 1/5\n",
            "\u001b[1m782/782\u001b[0m \u001b[32m━━━━━━━━━━━━━━━━━━━━\u001b[0m\u001b[37m\u001b[0m \u001b[1m161s\u001b[0m 187ms/step - accuracy: 0.5851 - loss: 1.2089 - val_accuracy: 0.7740 - val_loss: 0.6617 - learning_rate: 0.0010\n",
            "Epoch 2/5\n",
            "\u001b[1m782/782\u001b[0m \u001b[32m━━━━━━━━━━━━━━━━━━━━\u001b[0m\u001b[37m\u001b[0m \u001b[1m164s\u001b[0m 150ms/step - accuracy: 0.7487 - loss: 0.7281 - val_accuracy: 0.7728 - val_loss: 0.6740 - learning_rate: 0.0010\n",
            "Epoch 3/5\n",
            "\u001b[1m782/782\u001b[0m \u001b[32m━━━━━━━━━━━━━━━━━━━━\u001b[0m\u001b[37m\u001b[0m \u001b[1m144s\u001b[0m 153ms/step - accuracy: 0.7620 - loss: 0.6905 - val_accuracy: 0.7813 - val_loss: 0.6329 - learning_rate: 0.0010\n",
            "Epoch 4/5\n",
            "\u001b[1m782/782\u001b[0m \u001b[32m━━━━━━━━━━━━━━━━━━━━\u001b[0m\u001b[37m\u001b[0m \u001b[1m140s\u001b[0m 151ms/step - accuracy: 0.7667 - loss: 0.6782 - val_accuracy: 0.7893 - val_loss: 0.6208 - learning_rate: 0.0010\n",
            "Epoch 5/5\n",
            "\u001b[1m782/782\u001b[0m \u001b[32m━━━━━━━━━━━━━━━━━━━━\u001b[0m\u001b[37m\u001b[0m \u001b[1m143s\u001b[0m 152ms/step - accuracy: 0.7682 - loss: 0.6718 - val_accuracy: 0.7906 - val_loss: 0.6091 - learning_rate: 0.0010\n",
            "Restoring model weights from the end of the best epoch: 5.\n",
            "Epoch 1/5\n",
            "\u001b[1m782/782\u001b[0m \u001b[32m━━━━━━━━━━━━━━━━━━━━\u001b[0m\u001b[37m\u001b[0m \u001b[1m277s\u001b[0m 280ms/step - accuracy: 0.6781 - loss: 1.0055 - val_accuracy: 0.7318 - val_loss: 0.8331 - learning_rate: 1.0000e-05\n",
            "Epoch 2/5\n",
            "\u001b[1m782/782\u001b[0m \u001b[32m━━━━━━━━━━━━━━━━━━━━\u001b[0m\u001b[37m\u001b[0m \u001b[1m173s\u001b[0m 221ms/step - accuracy: 0.8306 - loss: 0.4932 - val_accuracy: 0.7425 - val_loss: 0.7535 - learning_rate: 1.0000e-05\n",
            "Epoch 3/5\n",
            "\u001b[1m782/782\u001b[0m \u001b[32m━━━━━━━━━━━━━━━━━━━━\u001b[0m\u001b[37m\u001b[0m \u001b[1m201s\u001b[0m 219ms/step - accuracy: 0.8717 - loss: 0.3668 - val_accuracy: 0.7940 - val_loss: 0.6139 - learning_rate: 1.0000e-05\n",
            "Epoch 4/5\n",
            "\u001b[1m782/782\u001b[0m \u001b[32m━━━━━━━━━━━━━━━━━━━━\u001b[0m\u001b[37m\u001b[0m \u001b[1m201s\u001b[0m 218ms/step - accuracy: 0.8974 - loss: 0.2932 - val_accuracy: 0.8337 - val_loss: 0.5005 - learning_rate: 1.0000e-05\n",
            "Epoch 5/5\n",
            "\u001b[1m782/782\u001b[0m \u001b[32m━━━━━━━━━━━━━━━━━━━━\u001b[0m\u001b[37m\u001b[0m \u001b[1m202s\u001b[0m 218ms/step - accuracy: 0.9156 - loss: 0.2385 - val_accuracy: 0.8722 - val_loss: 0.3813 - learning_rate: 1.0000e-05\n",
            "Restoring model weights from the end of the best epoch: 5.\n"
          ]
        },
        {
          "output_type": "execute_result",
          "data": {
            "text/plain": [
              "<keras.src.callbacks.history.History at 0x796fb04f0510>"
            ]
          },
          "metadata": {},
          "execution_count": 1
        }
      ],
      "source": [
        "import tensorflow as tf\n",
        "import numpy as np\n",
        "\n",
        "# Load CIFAR-10\n",
        "(x_train, y_train), (x_test, y_test) = tf.keras.datasets.cifar10.load_data()\n",
        "\n",
        "# One-hot encode labels\n",
        "y_train_cat = tf.keras.utils.to_categorical(y_train, 10)\n",
        "y_test_cat = tf.keras.utils.to_categorical(y_test, 10)\n",
        "\n",
        "# ImageNet normalization constants\n",
        "imagenet_mean = tf.constant([0.485, 0.456, 0.406], dtype=tf.float32)\n",
        "imagenet_std = tf.constant([0.229, 0.224, 0.225], dtype=tf.float32)\n",
        "\n",
        "def preprocess(image, label):\n",
        "    image = tf.image.resize(image, (224, 224))\n",
        "    image = tf.cast(image, tf.float32) / 255.0\n",
        "    image = (image - imagenet_mean) / imagenet_std\n",
        "    return image, label\n",
        "\n",
        "# Dataset pipeline (no augmentation)\n",
        "train_ds = tf.data.Dataset.from_tensor_slices((x_train, y_train_cat))\n",
        "train_ds = train_ds.shuffle(10000) \\\n",
        "                   .map(preprocess, num_parallel_calls=tf.data.AUTOTUNE) \\\n",
        "                   .batch(64) \\\n",
        "                   .prefetch(tf.data.AUTOTUNE)\n",
        "\n",
        "test_ds = tf.data.Dataset.from_tensor_slices((x_test, y_test_cat))\n",
        "test_ds = test_ds.map(preprocess, num_parallel_calls=tf.data.AUTOTUNE) \\\n",
        "                 .batch(64) \\\n",
        "                 .prefetch(tf.data.AUTOTUNE)\n",
        "\n",
        "# Load MobileNetV2 base model (ImageNet pretrained)\n",
        "base_model = tf.keras.applications.MobileNetV2(input_shape=(224,224,3),\n",
        "                                               include_top=False,\n",
        "                                               weights='imagenet')\n",
        "base_model.trainable = False  # freeze base\n",
        "\n",
        "\n",
        "# Add classification head with dropout\n",
        "inputs = tf.keras.Input(shape=(224,224,3))\n",
        "x = base_model(inputs, training=False)\n",
        "x = tf.keras.layers.GlobalAveragePooling2D()(x)\n",
        "x = tf.keras.layers.Dropout(0.3)(x)  # Dropout added here\n",
        "outputs = tf.keras.layers.Dense(10, activation='softmax')(x)\n",
        "model = tf.keras.Model(inputs, outputs)\n",
        "\n",
        "\n",
        "# Compile model\n",
        "model.compile(optimizer=tf.keras.optimizers.Adam(1e-3),\n",
        "              loss='categorical_crossentropy',\n",
        "              metrics=['accuracy'])\n",
        "\n",
        "# Callbacks for learning rate reduction and early stopping\n",
        "callbacks = [\n",
        "    tf.keras.callbacks.ReduceLROnPlateau(monitor='val_loss', factor=0.5, patience=3, verbose=1),\n",
        "    tf.keras.callbacks.EarlyStopping(monitor='val_accuracy', patience=5, restore_best_weights=True, verbose=1)\n",
        "]\n",
        "\n",
        "# Train only the head for 5 epochs\n",
        "model.fit(train_ds, epochs=5, validation_data=test_ds, callbacks=callbacks)\n",
        "\n",
        "# Unfreeze base model for fine-tuning\n",
        "base_model.trainable = True\n",
        "\n",
        "# Recompile with lower LR for fine-tuning\n",
        "model.compile(optimizer=tf.keras.optimizers.Adam(1e-5),\n",
        "              loss='categorical_crossentropy',\n",
        "              metrics=['accuracy'])\n",
        "\n",
        "# Fine-tune for 5 more epochs\n",
        "model.fit(train_ds, epochs=5, validation_data=test_ds, callbacks=callbacks)\n"
      ]
    },
    {
      "cell_type": "code",
      "source": [
        "model.save(\"mobilenetv2_cifar10.keras\")\n"
      ],
      "metadata": {
        "id": "G29agszaIAyC"
      },
      "execution_count": null,
      "outputs": []
    },
    {
      "cell_type": "code",
      "source": [
        "import os\n",
        "\n",
        "file_path = \"mobilenetv2_cifar10.keras\"\n",
        "size_mb = os.path.getsize(file_path) / (1024 * 1024)\n",
        "print(f\"Model size: {size_mb:.2f} MB\")\n"
      ],
      "metadata": {
        "colab": {
          "base_uri": "https://localhost:8080/"
        },
        "id": "KJYuNiqXYfCz",
        "outputId": "308b11ac-ae4d-4ae2-9140-e5bd4ed22bfc"
      },
      "execution_count": null,
      "outputs": [
        {
          "output_type": "stream",
          "name": "stdout",
          "text": [
            "Model size: 26.40 MB\n"
          ]
        }
      ]
    },
    {
      "cell_type": "code",
      "source": [
        "from google.colab import files\n",
        "\n",
        "# Download the saved model file to your local PC\n",
        "files.download(\"mobilenetv2_cifar10.keras\")"
      ],
      "metadata": {
        "id": "ekZ_YfHTZdtX",
        "outputId": "385410dc-342e-469d-a162-eabfc5d058e9",
        "colab": {
          "base_uri": "https://localhost:8080/",
          "height": 34
        }
      },
      "execution_count": null,
      "outputs": [
        {
          "output_type": "display_data",
          "data": {
            "text/plain": [
              "<IPython.core.display.Javascript object>"
            ],
            "application/javascript": [
              "\n",
              "    async function download(id, filename, size) {\n",
              "      if (!google.colab.kernel.accessAllowed) {\n",
              "        return;\n",
              "      }\n",
              "      const div = document.createElement('div');\n",
              "      const label = document.createElement('label');\n",
              "      label.textContent = `Downloading \"${filename}\": `;\n",
              "      div.appendChild(label);\n",
              "      const progress = document.createElement('progress');\n",
              "      progress.max = size;\n",
              "      div.appendChild(progress);\n",
              "      document.body.appendChild(div);\n",
              "\n",
              "      const buffers = [];\n",
              "      let downloaded = 0;\n",
              "\n",
              "      const channel = await google.colab.kernel.comms.open(id);\n",
              "      // Send a message to notify the kernel that we're ready.\n",
              "      channel.send({})\n",
              "\n",
              "      for await (const message of channel.messages) {\n",
              "        // Send a message to notify the kernel that we're ready.\n",
              "        channel.send({})\n",
              "        if (message.buffers) {\n",
              "          for (const buffer of message.buffers) {\n",
              "            buffers.push(buffer);\n",
              "            downloaded += buffer.byteLength;\n",
              "            progress.value = downloaded;\n",
              "          }\n",
              "        }\n",
              "      }\n",
              "      const blob = new Blob(buffers, {type: 'application/binary'});\n",
              "      const a = document.createElement('a');\n",
              "      a.href = window.URL.createObjectURL(blob);\n",
              "      a.download = filename;\n",
              "      div.appendChild(a);\n",
              "      a.click();\n",
              "      div.remove();\n",
              "    }\n",
              "  "
            ]
          },
          "metadata": {}
        },
        {
          "output_type": "display_data",
          "data": {
            "text/plain": [
              "<IPython.core.display.Javascript object>"
            ],
            "application/javascript": [
              "download(\"download_64c563fc-f668-49f9-b637-6dcb7be0d092\", \"mobilenetv2_cifar10.keras\", 27679132)"
            ]
          },
          "metadata": {}
        }
      ]
    },
    {
      "cell_type": "code",
      "source": [],
      "metadata": {
        "id": "YhoYdaxWZeRX"
      },
      "execution_count": null,
      "outputs": []
    }
  ]
}